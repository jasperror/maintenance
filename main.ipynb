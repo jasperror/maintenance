{
 "cells": [
  {
   "metadata": {},
   "cell_type": "markdown",
   "source": [
    "## Tips\n",
    "\n",
    "### ML\n",
    "\n",
    "- Multiply some data by -1 before training ML model, so that all degradation plots are trending in the same direction (either up or down) to improve the model results\n",
    "- use linear regression to predict degradation?\n",
    "- Normalize each plot between 0 and 1 to improve the model results\n",
    "- Actually do whatever works the best\n",
    "- Using supervised learning\n",
    "- 70% training 30% testing.\n",
    "- Don't mix engines\n",
    "- Can use max mean normalization or standard deviation normalization\n",
    "\n",
    "## Misc.\n",
    "\n",
    "- Use seaborn for report\n",
    "- should have high RUL correlations\n",
    "- Take out variables which have no correlations?\n"
   ],
   "id": "4a158c49da37904b"
  },
  {
   "metadata": {},
   "cell_type": "code",
   "outputs": [],
   "execution_count": null,
   "source": "",
   "id": "12bf5076b9ff99d0"
  },
  {
   "metadata": {},
   "cell_type": "code",
   "outputs": [],
   "execution_count": null,
   "source": "",
   "id": "initial_id"
  }
 ],
 "metadata": {
  "kernelspec": {
   "display_name": "Python 3",
   "language": "python",
   "name": "python3"
  },
  "language_info": {
   "codemirror_mode": {
    "name": "ipython",
    "version": 2
   },
   "file_extension": ".py",
   "mimetype": "text/x-python",
   "name": "python",
   "nbconvert_exporter": "python",
   "pygments_lexer": "ipython2",
   "version": "2.7.6"
  }
 },
 "nbformat": 4,
 "nbformat_minor": 5
}
